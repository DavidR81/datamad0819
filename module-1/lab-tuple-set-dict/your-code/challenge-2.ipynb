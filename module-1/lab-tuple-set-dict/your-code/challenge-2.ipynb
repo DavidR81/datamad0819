{
 "cells": [
  {
   "cell_type": "markdown",
   "metadata": {},
   "source": [
    "## Challenge 2: Sets\n",
    "\n",
    "There are a lot to learn about Python Sets and the information presented in the lesson is limited due to its length. To learn Python Sets in depth you are strongly encouraged to review the W3Schools tutorial on [Python Sets Examples and Methods](https://www.w3schools.com/python/python_sets.asp) before you work on this lab. Some difficult questions in this lab have their solutions in the W3Schools tutorial.\n",
    "\n",
    "#### First, import the Python `random` libary"
   ]
  },
  {
   "cell_type": "code",
   "execution_count": 2,
   "metadata": {},
   "outputs": [],
   "source": [
    "import random"
   ]
  },
  {
   "cell_type": "markdown",
   "metadata": {},
   "source": [
    "#### In the cell below, create a list named `sample_list_1` with 80 random values. \n",
    "\n",
    "Requirements:\n",
    "\n",
    "* Each value is an integer falling between 0 and 100.\n",
    "* Each value in the list is unique.\n",
    "\n",
    "Print `sample_list_1` to review its values\n",
    "\n",
    "*Hint: use `random.sample` ([reference](https://docs.python.org/3/library/random.html#random.sample)).*"
   ]
  },
  {
   "cell_type": "code",
   "execution_count": 3,
   "metadata": {},
   "outputs": [
    {
     "name": "stdout",
     "output_type": "stream",
     "text": [
      "[61, 55, 80, 45, 62, 88, 94, 6, 77, 37, 73, 0, 76, 3, 23, 38, 7, 21, 18, 95, 90, 91, 64, 51, 84, 11, 50, 29, 19, 46, 32, 82, 56, 99, 12, 59, 40, 31, 25, 71, 13, 4, 17, 52, 48, 87, 9, 78, 69, 30, 24, 26, 74, 27, 68, 43, 96, 10, 35, 63, 33, 66, 67, 100, 34, 2, 39, 47, 36, 8, 5, 53, 58, 16, 14, 28, 92, 41, 85, 1]\n"
     ]
    }
   ],
   "source": [
    "'''\n",
    "sample_list_1 = list(range(0,100))\n",
    "\n",
    "random.sample(sample_list_1,k=80)\n",
    "\n",
    "'''\n",
    "#mejor alternativa\n",
    "\n",
    "sample_list_1 = random.sample(range(101),80)\n",
    "print(sample_list_1)\n",
    "\n"
   ]
  },
  {
   "cell_type": "markdown",
   "metadata": {},
   "source": [
    "#### Convert `sample_list_1` to a set called `set1`. Print the length of the set. Is its length still 80?"
   ]
  },
  {
   "cell_type": "code",
   "execution_count": 5,
   "metadata": {},
   "outputs": [
    {
     "name": "stdout",
     "output_type": "stream",
     "text": [
      "80\n"
     ]
    }
   ],
   "source": [
    "'''\n",
    "set1 = set(random.sample(sample_list_1,k=80))\n",
    "print(len(set1))\n",
    "'''\n",
    "#mejor alternativa\n",
    "\n",
    "set1 = set(sample_list_1)\n",
    "print(len(set1))\n",
    "\n",
    "#si\n"
   ]
  },
  {
   "cell_type": "markdown",
   "metadata": {},
   "source": [
    "#### Create another list named `sample_list_2` with 80 random values.\n",
    "\n",
    "Requirements:\n",
    "\n",
    "* Each value is an integer falling between 0 and 100.\n",
    "* The values in the list don't have to be unique.\n",
    "\n",
    "*Hint: Use a FOR loop.*"
   ]
  },
  {
   "cell_type": "code",
   "execution_count": 14,
   "metadata": {},
   "outputs": [
    {
     "name": "stdout",
     "output_type": "stream",
     "text": [
      "[75, 27, 34, 34, 96, 9, 26, 26, 75, 22, 35, 22, 14, 62, 98, 95, 49, 54, 60, 100, 59, 69, 63, 17, 64, 58, 43, 25, 68, 69, 46, 2, 50, 11, 6, 2, 38, 99, 79, 88, 56, 100, 15, 52, 58, 89, 16, 42, 91, 15, 67, 71, 50, 19, 54, 26, 77, 41, 16, 98, 81, 22, 98, 7, 84, 89, 20, 35, 36, 45, 42, 60, 29, 31, 35, 77, 46, 32, 90, 76]\n"
     ]
    },
    {
     "data": {
      "text/plain": [
       "'\\nsample_list_2 = []\\nfor i in range(80):\\n    sample_list_2.append(random.sample(range(101),1)[0])\\nprint(sample_list_2)\\n'"
      ]
     },
     "execution_count": 14,
     "metadata": {},
     "output_type": "execute_result"
    }
   ],
   "source": [
    "\n",
    "sample_list_2 = []\n",
    "for n in range(80):\n",
    "    sample_list_2.append(random.randint(1,101))\n",
    "print(sample_list_2)\n",
    "\n",
    "\n",
    "\n",
    "#alternativa\n",
    "\n",
    "'''\n",
    "sample_list_2 = []\n",
    "for i in range(80):\n",
    "    sample_list_2.append(random.sample(range(101),1)[0])\n",
    "print(sample_list_2)\n",
    "'''\n",
    "\n"
   ]
  },
  {
   "cell_type": "markdown",
   "metadata": {},
   "source": [
    "#### Convert `sample_list_2` to a set called `set2`. Print the length of the set. Is its length still 80?"
   ]
  },
  {
   "cell_type": "code",
   "execution_count": 15,
   "metadata": {},
   "outputs": [
    {
     "name": "stdout",
     "output_type": "stream",
     "text": [
      "57\n"
     ]
    }
   ],
   "source": [
    "set2 = set(sample_list_2)\n",
    "print(len(set2))\n",
    "\n",
    "#la longitud sigue siendo 80"
   ]
  },
  {
   "cell_type": "markdown",
   "metadata": {},
   "source": [
    "#### Identify the elements present in `set1` but not in `set2`. Assign the elements to a new set named `set3`."
   ]
  },
  {
   "cell_type": "code",
   "execution_count": 16,
   "metadata": {},
   "outputs": [
    {
     "name": "stdout",
     "output_type": "stream",
     "text": [
      "{0, 1, 3, 4, 5, 8, 10, 12, 13, 18, 21, 23, 24, 28, 30, 33, 37, 39, 40, 47, 48, 51, 53, 55, 61, 66, 73, 74, 78, 80, 82, 85, 87, 92, 94}\n"
     ]
    }
   ],
   "source": [
    "set3 = set1.difference(set2)\n",
    "print(set3)\n",
    "\n",
    "\n"
   ]
  },
  {
   "cell_type": "markdown",
   "metadata": {},
   "source": [
    "#### Identify the elements present in `set2` but not in `set1`. Assign the elements to a new set named `set4`."
   ]
  },
  {
   "cell_type": "code",
   "execution_count": 17,
   "metadata": {},
   "outputs": [
    {
     "name": "stdout",
     "output_type": "stream",
     "text": [
      "{98, 42, 75, 15, 79, 49, 81, 20, 22, 54, 89, 60}\n"
     ]
    }
   ],
   "source": [
    "set4 = set2.difference(set1)\n",
    "print(set4)\n"
   ]
  },
  {
   "cell_type": "markdown",
   "metadata": {},
   "source": [
    "#### Now Identify the elements shared between `set1` and `set2`. Assign the elements to a new set named `set5`."
   ]
  },
  {
   "cell_type": "code",
   "execution_count": 21,
   "metadata": {},
   "outputs": [
    {
     "name": "stdout",
     "output_type": "stream",
     "text": [
      "{2, 6, 7, 9, 11, 14, 16, 17, 19, 25, 26, 27, 29, 31, 32, 34, 35, 36, 38, 41, 43, 45, 46, 50, 52, 56, 58, 59, 62, 63, 64, 67, 68, 69, 71, 76, 77, 84, 88, 90, 91, 95, 96, 99, 100}\n"
     ]
    }
   ],
   "source": [
    "#set5 = set1.union(set2)\n",
    "#print(set5)\n",
    "\n",
    "#mejor alternativa\n",
    "\n",
    "set5 = set1.intersection(set2)\n",
    "print(set5)\n"
   ]
  },
  {
   "cell_type": "markdown",
   "metadata": {},
   "source": [
    "#### What is the relationship among the following values:\n",
    "\n",
    "* len(set1)\n",
    "* len(set2)\n",
    "* len(set3)\n",
    "* len(set4)\n",
    "* len(set5)\n",
    "\n",
    "Use a math formular to represent that relationship. Test your formular with Python code."
   ]
  },
  {
   "cell_type": "code",
   "execution_count": 25,
   "metadata": {},
   "outputs": [
    {
     "name": "stdout",
     "output_type": "stream",
     "text": [
      "80 57 35 12 45\n"
     ]
    },
    {
     "data": {
      "text/plain": [
       "True"
      ]
     },
     "execution_count": 25,
     "metadata": {},
     "output_type": "execute_result"
    }
   ],
   "source": [
    "print(len(set1),len(set2),len(set3),len(set4),len(set5))\n",
    "len(set3) < len(set1) and len(set3) < len(set2)\n",
    "len(set4) < len(set1) and len(set4) < len(set2)\n",
    "len(set5) < len(set1) and len(set5) < len(set2)\n",
    "len(set5) > len(set3) and len(set5) > len(set4)\n",
    "len(set5) == len(set1) - len(set3)\n"
   ]
  },
  {
   "cell_type": "markdown",
   "metadata": {},
   "source": [
    "#### Create an empty set called `set6`."
   ]
  },
  {
   "cell_type": "code",
   "execution_count": 27,
   "metadata": {},
   "outputs": [],
   "source": [
    "set6 = set([])\n"
   ]
  },
  {
   "cell_type": "markdown",
   "metadata": {},
   "source": [
    "#### Add `set3` and `set5` to `set6` using the Python Set `update` method."
   ]
  },
  {
   "cell_type": "code",
   "execution_count": 28,
   "metadata": {},
   "outputs": [
    {
     "name": "stdout",
     "output_type": "stream",
     "text": [
      "{0, 1, 2, 3, 4, 5, 6, 7, 8, 9, 10, 11, 12, 13, 14, 16, 17, 18, 19, 21, 23, 24, 25, 26, 27, 28, 29, 30, 31, 32, 33, 34, 35, 36, 37, 38, 39, 40, 41, 43, 45, 46, 47, 48, 50, 51, 52, 53, 55, 56, 58, 59, 61, 62, 63, 64, 66, 67, 68, 69, 71, 73, 74, 76, 77, 78, 80, 82, 84, 85, 87, 88, 90, 91, 92, 94, 95, 96, 99, 100}\n",
      "80\n"
     ]
    }
   ],
   "source": [
    "set6.update(set3.union(set5,set6))\n",
    "print(set6)\n",
    "print(len(set6))\n"
   ]
  },
  {
   "cell_type": "markdown",
   "metadata": {},
   "source": [
    "#### Check if `set1` and `set6` are equal."
   ]
  },
  {
   "cell_type": "code",
   "execution_count": 29,
   "metadata": {},
   "outputs": [
    {
     "name": "stdout",
     "output_type": "stream",
     "text": [
      "True\n"
     ]
    }
   ],
   "source": [
    "if set1 == set6:\n",
    "    print(True)\n",
    "else:\n",
    "    print(False)\n"
   ]
  },
  {
   "cell_type": "markdown",
   "metadata": {},
   "source": [
    "#### Check if `set1` contains `set2` using the Python Set `issubset` method. Then check if `set1` contains `set3`.*"
   ]
  },
  {
   "cell_type": "code",
   "execution_count": 30,
   "metadata": {},
   "outputs": [
    {
     "name": "stdout",
     "output_type": "stream",
     "text": [
      "Set1 contains set3.\n"
     ]
    },
    {
     "data": {
      "text/plain": [
       "'\\nif set2.issubset(set1):\\n    print(\"Set1 contains set2\")\\nelse:\\n    print(\"Set1 does not contains set2\")\\n\\nif set3.issubset(set1):\\n    print(\"Set1 contains set3\")\\nelse:\\n    print(\"Set1 does not contains set3\")\\n'"
      ]
     },
     "execution_count": 30,
     "metadata": {},
     "output_type": "execute_result"
    }
   ],
   "source": [
    "if set2.issubset(set1):\n",
    "    print(\"Set1 contains set2.\")\n",
    "if set3.issubset(set1):\n",
    "    print(\"Set1 contains set3.\")\n",
    "    \n",
    "#alternativa\n",
    "'''\n",
    "if set2.issubset(set1):\n",
    "    print(\"Set1 contains set2\")\n",
    "else:\n",
    "    print(\"Set1 does not contains set2\")\n",
    "\n",
    "if set3.issubset(set1):\n",
    "    print(\"Set1 contains set3\")\n",
    "else:\n",
    "    print(\"Set1 does not contains set3\")\n",
    "'''\n"
   ]
  },
  {
   "cell_type": "markdown",
   "metadata": {},
   "source": [
    "#### Using the Python Set `union` method, aggregate `set3`, `set4`, and `set5`. Then aggregate `set1` and `set2`. \n",
    "\n",
    "#### Check if the aggregated values are equal."
   ]
  },
  {
   "cell_type": "code",
   "execution_count": 31,
   "metadata": {},
   "outputs": [
    {
     "name": "stdout",
     "output_type": "stream",
     "text": [
      "Sets are equal.\n"
     ]
    }
   ],
   "source": [
    "set345 = set.union(set3,set4,set5)\n",
    "set12  = set.union(set1,set2)\n",
    "\n",
    "if set12 == set345: \n",
    "    print(\"Sets are equal.\")\n"
   ]
  },
  {
   "cell_type": "markdown",
   "metadata": {},
   "source": [
    "#### Using the `pop` method, remove the first element from `set1`."
   ]
  },
  {
   "cell_type": "code",
   "execution_count": 32,
   "metadata": {},
   "outputs": [
    {
     "name": "stdout",
     "output_type": "stream",
     "text": [
      "{1, 2, 3, 4, 5, 6, 7, 8, 9, 10, 11, 12, 13, 14, 16, 17, 18, 19, 21, 23, 24, 25, 26, 27, 28, 29, 30, 31, 32, 33, 34, 35, 36, 37, 38, 39, 40, 41, 43, 45, 46, 47, 48, 50, 51, 52, 53, 55, 56, 58, 59, 61, 62, 63, 64, 66, 67, 68, 69, 71, 73, 74, 76, 77, 78, 80, 82, 84, 85, 87, 88, 90, 91, 92, 94, 95, 96, 99, 100}\n"
     ]
    }
   ],
   "source": [
    "set1.pop()\n",
    "print(set1)\n"
   ]
  },
  {
   "cell_type": "markdown",
   "metadata": {},
   "source": [
    "#### Remove every element in the following list from `set1` if they are present in the set. Print the remaining elements.\n",
    "\n",
    "```\n",
    "list_to_remove = [1, 9, 11, 19, 21, 29, 31, 39, 41, 49, 51, 59, 61, 69, 71, 79, 81, 89, 91, 99]\n",
    "```"
   ]
  },
  {
   "cell_type": "code",
   "execution_count": 33,
   "metadata": {},
   "outputs": [
    {
     "name": "stdout",
     "output_type": "stream",
     "text": [
      "{2, 3, 4, 5, 6, 7, 8, 10, 12, 13, 14, 16, 17, 18, 23, 24, 25, 26, 27, 28, 30, 32, 33, 34, 35, 36, 37, 38, 40, 43, 45, 46, 47, 48, 50, 52, 53, 55, 56, 58, 62, 63, 64, 66, 67, 68, 73, 74, 76, 77, 78, 80, 82, 84, 85, 87, 88, 90, 92, 94, 95, 96, 100}\n"
     ]
    }
   ],
   "source": [
    "list_to_remove = [1, 9, 11, 19, 21, 29, 31, 39, 41, 49, 51, 59, 61, 69, 71, 79, 81, 89, 91, 99]\n",
    "for ele in list_to_remove:\n",
    "    if ele in set1:\n",
    "        set1.discard(ele)\n",
    "\n",
    "print(set1)\n"
   ]
  },
  {
   "cell_type": "code",
   "execution_count": null,
   "metadata": {},
   "outputs": [],
   "source": []
  }
 ],
 "metadata": {
  "kernelspec": {
   "display_name": "Python 3",
   "language": "python",
   "name": "python3"
  },
  "language_info": {
   "codemirror_mode": {
    "name": "ipython",
    "version": 3
   },
   "file_extension": ".py",
   "mimetype": "text/x-python",
   "name": "python",
   "nbconvert_exporter": "python",
   "pygments_lexer": "ipython3",
   "version": "3.7.4"
  }
 },
 "nbformat": 4,
 "nbformat_minor": 2
}
